{
 "cells": [
  {
   "cell_type": "markdown",
   "metadata": {},
   "source": [
    "# Generar señales"
   ]
  },
  {
   "cell_type": "code",
   "execution_count": 12,
   "metadata": {},
   "outputs": [
    {
     "name": "stdout",
     "output_type": "stream",
     "text": [
      "[0.075, 0.36250000000000004, 0.65, 0.075, 0.36250000000000004, 0.65, 0.075, 0.36250000000000004, 0.65, 0.075, 0.36250000000000004, 0.65, 0.075, 0.36250000000000004, 0.65, 0.075, 0.36250000000000004, 0.65, 0.075, 0.36250000000000004, 0.65, 0.075, 0.36250000000000004, 0.65, 0.075, 0.36250000000000004, 0.65, 0.075, 0.36250000000000004, 0.65, 0.075, 0.36250000000000004, 0.65, 0.075, 0.36250000000000004, 0.65, 0.075, 0.36250000000000004, 0.65, 0.075, 0.36250000000000004, 0.65, 0.075, 0.36250000000000004, 0.65, 0.075, 0.36250000000000004, 0.65, 0.075, 0.36250000000000004, 0.65, 0.075, 0.36250000000000004, 0.65, 0.075, 0.36250000000000004, 0.65, 0.075, 0.36250000000000004, 0.65, 0.075, 0.36250000000000004, 0.65, 0.075, 0.36250000000000004, 0.65, 0.075, 0.36250000000000004, 0.65, 0.075, 0.36250000000000004, 0.65, 0.075, 0.36250000000000004, 0.65, 0.075, 0.36250000000000004, 0.65, 0.075, 0.36250000000000004, 0.65, 0.075, 0.36250000000000004, 0.65, 0.075, 0.36250000000000004, 0.65, 0.075, 0.36250000000000004, 0.65, 0.075, 0.36250000000000004, 0.65, 0.075, 0.36250000000000004, 0.65, 0.075, 0.36250000000000004, 0.65, 0.075, 0.36250000000000004, 0.65, 0.075, 0.36250000000000004, 0.65, 0.075, 0.36250000000000004, 0.65, 0.075, 0.36250000000000004, 0.65, 0.075, 0.36250000000000004, 0.65, 0.075, 0.36250000000000004, 0.65, 0.075, 0.36250000000000004, 0.65, 0.075, 0.36250000000000004, 0.65, 0.075, 0.36250000000000004, 0.65, 0.075, 0.36250000000000004, 0.65, 0.075, 0.36250000000000004, 0.65, 0.075, 0.36250000000000004, 0.65, 0.075, 0.36250000000000004, 0.65, 0.075, 0.36250000000000004, 0.65, 0.075, 0.36250000000000004, 0.65, 0.075, 0.36250000000000004, 0.65, 0.075, 0.36250000000000004, 0.65, 0.075, 0.36250000000000004, 0.65, 0.075, 0.36250000000000004, 0.65, 0.075, 0.36250000000000004, 0.65, 0.075, 0.36250000000000004, 0.65, 0.075, 0.36250000000000004, 0.65, 0.075, 0.36250000000000004, 0.65, 0.075, 0.36250000000000004, 0.65, 0.075, 0.36250000000000004, 0.65, 0.075, 0.36250000000000004, 0.65, 0.075, 0.36250000000000004, 0.65, 0.075, 0.36250000000000004, 0.65, 0.075, 0.36250000000000004, 0.65, 0.075, 0.36250000000000004, 0.65, 0.075, 0.36250000000000004, 0.65, 0.075, 0.36250000000000004, 0.65, 0.075, 0.36250000000000004, 0.65, 0.075, 0.36250000000000004, 0.65, 0.075, 0.36250000000000004, 0.65, 0.075, 0.36250000000000004, 0.65, 0.075, 0.36250000000000004, 0.65, 0.075, 0.36250000000000004, 0.65, 0.075, 0.36250000000000004, 0.65, 0.075, 0.36250000000000004, 0.65, 0.075, 0.36250000000000004, 0.65, 0.075, 0.36250000000000004, 0.65, 0.075, 0.36250000000000004, 0.65, 0.075, 0.36250000000000004, 0.65, 0.075, 0.36250000000000004, 0.65, 0.075, 0.36250000000000004, 0.65, 0.075, 0.36250000000000004, 0.65, 0.075, 0.36250000000000004, 0.65, 0.075, 0.36250000000000004, 0.65, 0.075, 0.36250000000000004, 0.65, 0.075, 0.36250000000000004, 0.65, 0.075, 0.36250000000000004, 0.65, 0.075, 0.36250000000000004, 0.65, 0.075, 0.36250000000000004, 0.65, 0.075, 0.36250000000000004, 0.65, 0.075, 0.36250000000000004, 0.65, 0.075, 0.36250000000000004, 0.65, 0.075, 0.36250000000000004, 0.65, 0.075, 0.36250000000000004, 0.65, 0.075, 0.36250000000000004, 0.65, 0.075, 0.36250000000000004, 0.65, 0.075, 0.36250000000000004, 0.65, 0.075, 0.36250000000000004, 0.65, 0.075, 0.36250000000000004, 0.65, 0.075, 0.36250000000000004, 0.65, 0.075, 0.36250000000000004, 0.65, 0.075, 0.36250000000000004, 0.65, 0.075, 0.36250000000000004, 0.65, 0.075, 0.36250000000000004, 0.65, 0.075, 0.36250000000000004, 0.65, 0.075, 0.36250000000000004, 0.65, 0.075, 0.36250000000000004, 0.65, 0.075, 0.36250000000000004, 0.65, 0.075, 0.36250000000000004, 0.65, 0.075, 0.36250000000000004, 0.65, 0.075, 0.36250000000000004, 0.65, 0.075, 0.36250000000000004, 0.65, 0.075, 0.36250000000000004, 0.65, 0.075, 0.36250000000000004, 0.65, 0.075, 0.36250000000000004, 0.65, 0.075, 0.36250000000000004, 0.65, 0.075, 0.36250000000000004, 0.65, 0.075, 0.36250000000000004, 0.65, 0.075, 0.36250000000000004, 0.65, 0.075, 0.36250000000000004, 0.65, 0.075, 0.36250000000000004, 0.65, 0.075, 0.36250000000000004, 0.65, 0.075, 0.36250000000000004, 0.65, 0.075, 0.36250000000000004, 0.65, 0.075, 0.36250000000000004, 0.65, 0.075, 0.36250000000000004, 0.65, 0.075, 0.36250000000000004, 0.65, 0.075, 0.36250000000000004, 0.65, 0.075, 0.36250000000000004, 0.65, 0.075, 0.36250000000000004, 0.65, 0.075, 0.36250000000000004, 0.65, 0.075, 0.36250000000000004, 0.65, 0.075, 0.36250000000000004, 0.65, 0.075, 0.36250000000000004, 0.65, 0.075, 0.36250000000000004, 0.65, 0.075, 0.36250000000000004, 0.65, 0.075, 0.36250000000000004, 0.65, 0.075, 0.36250000000000004, 0.65, 0.075, 0.36250000000000004, 0.65, 0.075, 0.36250000000000004, 0.65, 0.075, 0.36250000000000004, 0.65, 0.075, 0.36250000000000004, 0.65, 0.075, 0.36250000000000004, 0.65, 0.075, 0.36250000000000004, 0.65, 0.075, 0.36250000000000004, 0.65, 0.075, 0.36250000000000004, 0.65, 0.075, 0.36250000000000004, 0.65, 0.075, 0.36250000000000004, 0.65, 0.075, 0.36250000000000004, 0.65, 0.075, 0.36250000000000004, 0.65, 0.075, 0.36250000000000004, 0.65, 0.075, 0.36250000000000004, 0.65, 0.075, 0.36250000000000004, 0.65, 0.075, 0.36250000000000004, 0.65, 0.075, 0.36250000000000004, 0.65, 0.075, 0.36250000000000004, 0.65, 0.075, 0.36250000000000004, 0.65, 0.075, 0.36250000000000004, 0.65, 0.075, 0.36250000000000004, 0.65, 0.075, 0.36250000000000004, 0.65, 0.075, 0.36250000000000004, 0.65, 0.075, 0.36250000000000004, 0.65, 0.075, 0.36250000000000004, 0.65, 0.075, 0.36250000000000004, 0.65, 0.075, 0.36250000000000004, 0.65, 0.075, 0.36250000000000004, 0.65, 0.075, 0.36250000000000004, 0.65, 0.075, 0.36250000000000004, 0.65, 0.075, 0.36250000000000004]\n",
      "Number of noisy signals: 500\n",
      "Number of timesteps per series: 8692\n"
     ]
    }
   ],
   "source": [
    "from generate_datasets import make_gravitational_waves\n",
    "from pathlib import Path\n",
    "\n",
    "R = 0.65\n",
    "n_signals = 500\n",
    "DATA = Path(\".\")\n",
    "\n",
    "noisy_signals, gw_signals, labels, Rcoeflist = make_gravitational_waves(\n",
    "    path_to_data=DATA, n_signals=n_signals, r_min=0.075, r_max=R, n_snr_values=3\n",
    ")\n",
    "\n",
    "print(Rcoeflist)\n",
    "print(f\"Number of noisy signals: {len(noisy_signals)}\")\n",
    "print(f\"Number of timesteps per series: {len(noisy_signals[0])}\")"
   ]
  },
  {
   "cell_type": "markdown",
   "metadata": {},
   "source": [
    "# Mapper"
   ]
  },
  {
   "cell_type": "code",
   "execution_count": 13,
   "metadata": {},
   "outputs": [
    {
     "name": "stdout",
     "output_type": "stream",
     "text": [
      "KeplerMapper(verbose=1)\n",
      "Mapping on data shaped (500, 8192) using lens shaped (500,)\n",
      "\n",
      "Creating 6 hypercubes.\n",
      "\n",
      "Created 1 edges and 4 nodes in 0:00:00.339959.\n",
      "Wrote visualization to: ondasGravitacionales.html\n",
      "no display found. Using non-interactive Agg backend\n"
     ]
    },
    {
     "data": {
      "text/plain": [
       "<matplotlib.collections.PathCollection at 0x19073fce1d0>"
      ]
     },
     "execution_count": 13,
     "metadata": {},
     "output_type": "execute_result"
    }
   ],
   "source": [
    "import kmapper as km\n",
    "import sklearn\n",
    "from sklearn.cluster import AgglomerativeClustering\n",
    "import numpy as np\n",
    "\n",
    "Rcoeflist = np.array(Rcoeflist)\n",
    "gw_signals = np.array(gw_signals)\n",
    "\n",
    "mapper = km.KeplerMapper(verbose=1)\n",
    "\n",
    "graph = mapper.map(\n",
    "    Rcoeflist,\n",
    "    gw_signals,\n",
    "    clusterer=sklearn.cluster.DBSCAN(metric='euclidean'),\n",
    "    cover=km.Cover(n_cubes=6, perc_overlap=0.05),\n",
    ")\n",
    "\n",
    "mapper.visualize(\n",
    "    graph,\n",
    "    path_html=\"ondasGravitacionales.html\",\n",
    "    title=\"Ondas Gravitacionales\",\n",
    "    colorscale=None,\n",
    "    nbins=8,\n",
    "    custom_tooltips = Rcoeflist,\n",
    "    node_color_function=['mean','std','median','max']\n",
    "    )\n",
    "\n",
    "km.draw_matplotlib(graph)"
   ]
  },
  {
   "cell_type": "markdown",
   "metadata": {},
   "source": [
    "# Estadístico de prueba"
   ]
  },
  {
   "cell_type": "code",
   "execution_count": 14,
   "metadata": {},
   "outputs": [],
   "source": [
    "import numpy as np\n",
    "from sklearn.decomposition import PCA\n",
    "from gtda.homology import VietorisRipsPersistence\n",
    "from gtda.time_series import SingleTakensEmbedding\n",
    "from gtda.diagrams import PersistenceLandscape\n",
    "import matplotlib.pyplot as plt"
   ]
  },
  {
   "cell_type": "code",
   "execution_count": 15,
   "metadata": {},
   "outputs": [],
   "source": [
    "from persim.landscapes import PersLandscapeExact\n",
    "from persim.landscapes import plot_landscape_simple\n",
    "from persim.landscapes import PersistenceLandscaper\n",
    "from persim import plot_diagrams\n",
    "\n",
    "#from ripser import ripser\n"
   ]
  },
  {
   "cell_type": "markdown",
   "metadata": {},
   "source": [
    "## Función para calcular distancias"
   ]
  },
  {
   "cell_type": "markdown",
   "metadata": {},
   "source": [
    "### Distancia euclidena"
   ]
  },
  {
   "cell_type": "code",
   "execution_count": 16,
   "metadata": {},
   "outputs": [],
   "source": [
    "# def distancia(diagram):\n",
    "#     suma = 0\n",
    "#     num_diagrams = len(diagram)\n",
    "#     for i in range(min(2, num_diagrams)):  # Verificar el número de diagramas\n",
    "#         h = diagram[i]\n",
    "#         points = h[:-1]\n",
    "#         if len(points) == 0:\n",
    "#             continue\n",
    "#         x_values = np.linspace(0, 2, 10000)\n",
    "#         line_points = np.column_stack((x_values, x_values))\n",
    "#         for point in points:\n",
    "#             if len(point) != 2:\n",
    "#                 continue\n",
    "#             distances = np.linalg.norm(line_points - point[:2], axis=1)\n",
    "#             closest_distance = np.min(distances)\n",
    "#             suma += closest_distance\n",
    "#     return suma"
   ]
  },
  {
   "cell_type": "markdown",
   "metadata": {},
   "source": [
    "### Distancia cuello de botella"
   ]
  },
  {
   "cell_type": "code",
   "execution_count": 17,
   "metadata": {},
   "outputs": [],
   "source": [
    "# def distancia_cuello_de_botella(diagram):\n",
    "#     max_distance = 0\n",
    "#     num_diagrams = len(diagram)\n",
    "#     for i in range(min(2, num_diagrams)):  # Verificar el número de diagramas\n",
    "#         h = diagram[i]\n",
    "#         points = h[:-1]\n",
    "#         if len(points) == 0:\n",
    "#             continue\n",
    "#         x_values = np.linspace(0, 2, 10000)\n",
    "#         line_points = np.column_stack((x_values, x_values))\n",
    "#         for point in points:\n",
    "#             if len(point) != 2:\n",
    "#                 continue\n",
    "#             distances = np.linalg.norm(line_points - point[:2], axis=1)\n",
    "#             farthest_distance = np.max(distances)\n",
    "#             if farthest_distance > max_distance:\n",
    "#                 max_distance = farthest_distance\n",
    "#     return max_distance\n",
    "\n",
    "\n",
    "def distancia_cuello_de_botella(diagram):\n",
    "    max_distance = 0\n",
    "    for point in diagram:\n",
    "        distances = np.abs(point[1] - point[0])  # Calcula la distancia a lo largo de la diagonal\n",
    "        if distances > max_distance:\n",
    "            max_distance = distances\n",
    "    return max_distance"
   ]
  },
  {
   "cell_type": "markdown",
   "metadata": {},
   "source": [
    "### Código Yuu sin modificaciones\n",
    "Generar diagramas de persistencia para todas las señales"
   ]
  },
  {
   "cell_type": "code",
   "execution_count": 18,
   "metadata": {},
   "outputs": [],
   "source": [
    "# Parámetros de incrustación y PCA\n",
    "embedding_dimension = 30\n",
    "embedding_time_delay = 30\n",
    "stride = 5\n",
    "pca_components = 3\n",
    "\n",
    "# Inicializar la incrustación y el calculador de homología persistente\n",
    "embedder = SingleTakensEmbedding(\n",
    "    parameters_type=\"search\", n_jobs=6, time_delay=embedding_time_delay, dimension=embedding_dimension, stride=stride\n",
    ")\n",
    "persistence = VietorisRipsPersistence(homology_dimensions=[0, 1])\n",
    "\n",
    "# Procesar cada señal\n",
    "for signal in noisy_signals:\n",
    "    # Incrustar la señal\n",
    "    signal_embedded = embedder.fit_transform(signal)\n",
    "\n",
    "    # Reducir dimensionalidad con PCA\n",
    "    signal_embedded_pca = PCA(n_components=pca_components).fit_transform(signal_embedded)\n",
    "\n",
    "    # Calcular la homología persistente\n",
    "    diagrams = persistence.fit_transform(signal_embedded_pca[None, :, :])"
   ]
  },
  {
   "cell_type": "code",
   "execution_count": 19,
   "metadata": {},
   "outputs": [],
   "source": [
    "# # Con for que itera sobre todas las señales\n",
    "# def slidding_window(señal):\n",
    "#     embedding_dimension = 30\n",
    "#     embedding_time_delay = 30\n",
    "#     stride = 5\n",
    "#     pca_components = 3\n",
    "\n",
    "#     # Inicializar la incrustación y el calculador de homología persistente\n",
    "#     embedder = SingleTakensEmbedding(\n",
    "#         parameters_type=\"search\", n_jobs=6, time_delay=embedding_time_delay, dimension=embedding_dimension, stride=stride\n",
    "#     )\n",
    "#     persistence = VietorisRipsPersistence(homology_dimensions=[0, 1])\n",
    "\n",
    "#     # Procesar cada señal\n",
    "#     for signal in noisy_signals:\n",
    "#         # Incrustar la señal\n",
    "#         signal_embedded = embedder.fit_transform(signal)\n",
    "\n",
    "#         # Reducir dimensionalidad con PCA\n",
    "#         signal_embedded_pca = PCA(n_components=pca_components).fit_transform(signal_embedded)\n",
    "\n",
    "#     return signal_embedded_pca\n",
    "\n",
    "\n",
    "# Slidding window solo para una señal\n",
    "def slidding_window(senal):\n",
    "    embedding_dimension = 30\n",
    "    embedding_time_delay = 30\n",
    "    stride = 5\n",
    "    pca_components = 3\n",
    "\n",
    "    # Inicializar la incrustación y el calculador de homología persistente\n",
    "    embedder = SingleTakensEmbedding(\n",
    "        parameters_type=\"search\", n_jobs=6, time_delay=embedding_time_delay, dimension=embedding_dimension, stride=stride\n",
    "    )\n",
    "    persistence = VietorisRipsPersistence(homology_dimensions=[0, 1])\n",
    "\n",
    "    # Incrustar la señal\n",
    "    signal_embedded = embedder.fit_transform(senal)\n",
    "\n",
    "    # Reducir dimensionalidad con PCA\n",
    "    signal_embedded_pca = PCA(n_components=pca_components).fit_transform(signal_embedded)\n",
    "\n",
    "    return signal_embedded_pca\n"
   ]
  },
  {
   "cell_type": "markdown",
   "metadata": {},
   "source": [
    "## Grupo Rcoef 0.075 y 0.65"
   ]
  },
  {
   "cell_type": "code",
   "execution_count": 20,
   "metadata": {},
   "outputs": [],
   "source": [
    "def calcular_diagrama_persistencia(signal):\n",
    "    y_noise_embedded_pca = slidding_window(signal)\n",
    "    diagram = persistence.fit_transform(signal_embedded_pca[None, :, :])\n",
    "    return diagram[0]\n",
    "\n",
    "def calcular_suma_distancias(diagramas):\n",
    "    return sum(distancia_cuello_de_botella(diagrama) for diagrama in diagramas)\n",
    "\n",
    "def estadistico_global(grupo1, grupo2):\n",
    "    # Calculo la primera parte de la función de costo\n",
    "    nm1, nm2 = len(grupo1), len(grupo2)\n",
    "    coeficiente1, coeficiente2 = 1 / (2 * nm1 * (nm1 - 1)), 1 / (2 * nm2 * (nm2 - 1))\n",
    "\n",
    "    # Calculo de los diagramas de persistencia para ambos grupos\n",
    "    diagramas_presistencia_grupo1 = [calcular_diagrama_persistencia(senal) for senal in grupo1]\n",
    "    diagramas_persistencia_grupo_2 = [calcular_diagrama_persistencia(senal) for senal in grupo2]\n",
    "\n",
    "    # Cálculo y suma de la función de distancia para ambos grupos\n",
    "    suma_distancias_grupo1 = calcular_suma_distancias(diagramas_presistencia_grupo1)\n",
    "    suma_distancias_grupo2 = calcular_suma_distancias(diagramas_persistencia_grupo_2)\n",
    "    \n",
    "    estadistico = (coeficiente1 * suma_distancias_grupo1) + (coeficiente2 * suma_distancias_grupo2)\n",
    "    return diagramas_presistencia_grupo1, diagramas_persistencia_grupo_2, estadistico\n"
   ]
  },
  {
   "cell_type": "code",
   "execution_count": 21,
   "metadata": {},
   "outputs": [],
   "source": [
    "def estadistico_subconjunto(diagramas_grupo1, diagramas_grupo2):\n",
    "\n",
    "    nm1, nm2 = len(diagramas_grupo1), len(diagramas_grupo2)\n",
    "    coeficiente1, coeficiente2 = 1 / (2 * nm1 * (nm1 - 1)), 1 / (2 * nm2 * (nm2 - 1))\n",
    "\n",
    "    suma_distancias_grupo1 = sum(distancia_cuello_de_botella(diagrama) for diagrama in diagramas_grupo1)\n",
    "    suma_distancias_grupo2 = sum(distancia_cuello_de_botella(diagrama) for diagrama in diagramas_grupo2)\n",
    "    \n",
    "    estadistico = (coeficiente1 * suma_distancias_grupo1) + (coeficiente2 * suma_distancias_grupo2)\n",
    "    return estadistico\n"
   ]
  },
  {
   "cell_type": "code",
   "execution_count": 22,
   "metadata": {},
   "outputs": [],
   "source": [
    "# Convertir la lista Rcoeflist a un array numpy para facilitar las operaciones\n",
    "Rcoefarray = np.array(Rcoeflist)\n",
    "\n",
    "# Obtener los índices para cada grupo\n",
    "indices_075 = np.where(Rcoefarray == 0.075)[0]\n",
    "indices_3625 = np.where(Rcoefarray == 0.36250000000000004)[0]\n",
    "indices_65 = np.where(Rcoefarray == 0.65)[0]\n",
    "\n",
    "# Crear listas con las señales de cada grupo\n",
    "senales_075 = [noisy_signals[index] for index in indices_075]\n",
    "senales_3625 = [noisy_signals[index] for index in indices_3625]\n",
    "senales_65 = [noisy_signals[index] for index in indices_65]\n"
   ]
  },
  {
   "cell_type": "markdown",
   "metadata": {},
   "source": [
    "## Grupo Rcoef 0.075 y 0.65"
   ]
  },
  {
   "cell_type": "code",
   "execution_count": 23,
   "metadata": {},
   "outputs": [
    {
     "name": "stdout",
     "output_type": "stream",
     "text": [
      "Estadistico Global entre grupos de R Coef 0.075 y 0.3625=  4.099802048056814e-21\n"
     ]
    }
   ],
   "source": [
    "diagrama_persistencia_075,diagrama_persistencia_3625,estadistico=estadistico_global(senales_075,senales_3625)\n",
    "print(\"Estadistico Global entre grupos de R Coef 0.075 y 0.3625= \",estadistico)"
   ]
  },
  {
   "cell_type": "code",
   "execution_count": 38,
   "metadata": {},
   "outputs": [],
   "source": [
    "import random\n",
    "def permutacion_Grupo075_Grupo3625(grupo1,grupo2,num_permutaciones):\n",
    "    z=1\n",
    "    for i in range(num_permutaciones):\n",
    "        random_number1 = random.randint(5, 10)\n",
    "        random_number2 = random.randint(5, 10)#genero un numero random entre 5 y 20 para crear los subconuntos que siguen la proporcion de la poblacion\n",
    "        subconjunto_promedio_grupo_1 = random.sample(grupo1, random_number1)\n",
    "        subconjunto_promedio_grupo_2 = random.sample(grupo2, random_number2)\n",
    "        estadistico=estadistico_subconjunto(subconjunto_promedio_grupo_1,subconjunto_promedio_grupo_2)\n",
    "\n",
    "        if estadistico<=2.8164475575187704e-20:\n",
    "            z+=1\n",
    "    \n",
    "    den=num_permutaciones+1\n",
    "    pval = z/den\n",
    "    if pval<= 0.05:\n",
    "        print(\"Rechazo H0. Hay diferencias significativas en la topología de las señales entre diferentes niveles de coeficientes de escala de ruido.\")\n",
    "    else:\n",
    "        print(\"No Rechazo H0. No hay diferencias significativas en la topología de las señales entre diferentes niveles de coeficientes de escala de ruido\")\n",
    "    return pval"
   ]
  },
  {
   "cell_type": "code",
   "execution_count": 39,
   "metadata": {},
   "outputs": [
    {
     "name": "stdout",
     "output_type": "stream",
     "text": [
      "Rechazo H0. Hay diferencias significativas en la topología de las señales entre diferentes niveles de coeficientes de escala de ruido.\n",
      "Obtuvimos un pvalor de  0.038461538461538464\n"
     ]
    }
   ],
   "source": [
    "\n",
    "pval=permutacion_Grupo075_Grupo3625(diagrama_persistencia_075,diagrama_persistencia_3625,25)\n",
    "print(\"Obtuvimos un pvalor de \",pval)"
   ]
  },
  {
   "cell_type": "markdown",
   "metadata": {},
   "source": [
    "## Grupo Rcoef 0.3625 y 0.65"
   ]
  },
  {
   "cell_type": "code",
   "execution_count": 26,
   "metadata": {},
   "outputs": [
    {
     "name": "stdout",
     "output_type": "stream",
     "text": [
      "Estadistico Global entre grupos de R Coef 0.3625 y 0.65=  4.1122256906266835e-21\n"
     ]
    }
   ],
   "source": [
    "diagrama_persistencia_3625,diagrama_persistencia_65,estadistico_2=estadistico_global(senales_3625,senales_65)\n",
    "print(\"Estadistico Global entre grupos de R Coef 0.3625 y 0.65= \",estadistico_2)"
   ]
  },
  {
   "cell_type": "code",
   "execution_count": 36,
   "metadata": {},
   "outputs": [],
   "source": [
    "def permutacion_Grupo3625_Grupo65(grupo1,grupo2,num_permutaciones):\n",
    "    z=1\n",
    "    for i in range(num_permutaciones):\n",
    "        random_number1 = random.randint(5, 10)\n",
    "        random_number2 = random.randint(5, 10)#genero un numero random entre 5 y 20 para crear los subconuntos que siguen la proporcion de la poblacion\n",
    "        subconjunto_promedio_grupo_1 = random.sample(grupo1, random_number1)\n",
    "        subconjunto_promedio_grupo_2 = random.sample(grupo2, random_number2)\n",
    "        estadistico=estadistico_subconjunto(subconjunto_promedio_grupo_1,subconjunto_promedio_grupo_2)\n",
    "        if estadistico<=2.910329142769396e-20:\n",
    "            z+=1\n",
    "    \n",
    "    den=num_permutaciones+1\n",
    "    pval = z/den\n",
    "    if pval<= 0.05:\n",
    "        print(\"Rechazo H0. Hay diferencias significativas en la topología de las señales entre diferentes niveles de coeficientes de escala de ruido.\")\n",
    "    else:\n",
    "        print(\"No Rechazo H0. No hay diferencias significativas en la topología de las señales entre diferentes niveles de coeficientes de escala de ruido\")\n",
    "    return pval"
   ]
  },
  {
   "cell_type": "code",
   "execution_count": 37,
   "metadata": {},
   "outputs": [
    {
     "name": "stdout",
     "output_type": "stream",
     "text": [
      "Rechazo H0. Hay diferencias significativas en la topología de las señales entre diferentes niveles de coeficientes de escala de ruido.\n",
      "Obtuvimos un pvalor de  0.038461538461538464\n"
     ]
    }
   ],
   "source": [
    "pval3=permutacion_Grupo3625_Grupo65(diagrama_persistencia_3625,diagrama_persistencia_65,25)\n",
    "print(\"Obtuvimos un pvalor de \",pval3)"
   ]
  },
  {
   "cell_type": "markdown",
   "metadata": {},
   "source": [
    "## Grupo Rcoef 0.75 y 0.65"
   ]
  },
  {
   "cell_type": "code",
   "execution_count": 29,
   "metadata": {},
   "outputs": [
    {
     "name": "stdout",
     "output_type": "stream",
     "text": [
      "Estadistico Global entre grupos de R Coef 0.075 y 0.65=  4.1122256906266835e-21\n"
     ]
    }
   ],
   "source": [
    "diagrama_persistencia_075,diagrama_persistencia_65,estadistico_2=estadistico_global(senales_075,senales_65)\n",
    "print(\"Estadistico Global entre grupos de R Coef 0.075 y 0.65= \",estadistico_2)"
   ]
  },
  {
   "cell_type": "code",
   "execution_count": 34,
   "metadata": {},
   "outputs": [],
   "source": [
    "def permutacion_Grupo075_Grupo65(grupo1,grupo2,num_permutaciones):\n",
    "    z=1\n",
    "    for i in range(num_permutaciones):\n",
    "        random_number1 = random.randint(5, 10)\n",
    "        random_number2 = random.randint(5, 10)#genero un numero random entre 5 y 20 para crear los subconuntos que siguen la proporcion de la poblacion\n",
    "        subconjunto_promedio_grupo_1 = random.sample(grupo1, random_number1)\n",
    "        subconjunto_promedio_grupo_2 = random.sample(grupo2, random_number2)\n",
    "        estadistico=estadistico_subconjunto(subconjunto_promedio_grupo_1,subconjunto_promedio_grupo_2)\n",
    "\n",
    "        if estadistico<=4.1122256906266835e-21:\n",
    "            z+=1\n",
    "    \n",
    "    den=num_permutaciones+1\n",
    "    pval = z/den\n",
    "    if pval<= 0.05:\n",
    "        print(\"Rechazo H0. Hay diferencias significativas en la topología de las señales entre diferentes niveles de coeficientes de escala de ruido.\")\n",
    "    else:\n",
    "        print(\"No Rechazo H0. No hay diferencias significativas en la topología de las señales entre diferentes niveles de coeficientes de escala de ruido\")\n",
    "    return pval"
   ]
  },
  {
   "cell_type": "code",
   "execution_count": 35,
   "metadata": {},
   "outputs": [
    {
     "name": "stdout",
     "output_type": "stream",
     "text": [
      "Rechazo H0. Hay diferencias significativas en la topología de las señales entre diferentes niveles de coeficientes de escala de ruido.\n",
      "Obtuvimos un pvalor de  0.038461538461538464\n"
     ]
    }
   ],
   "source": [
    "pval2=permutacion_Grupo075_Grupo65(diagrama_persistencia_075,diagrama_persistencia_65,25)\n",
    "print(\"Obtuvimos un pvalor de \",pval2)"
   ]
  }
 ],
 "metadata": {
  "kernelspec": {
   "display_name": "Python 3",
   "language": "python",
   "name": "python3"
  },
  "language_info": {
   "codemirror_mode": {
    "name": "ipython",
    "version": 3
   },
   "file_extension": ".py",
   "mimetype": "text/x-python",
   "name": "python",
   "nbconvert_exporter": "python",
   "pygments_lexer": "ipython3",
   "version": "3.11.2"
  }
 },
 "nbformat": 4,
 "nbformat_minor": 2
}
